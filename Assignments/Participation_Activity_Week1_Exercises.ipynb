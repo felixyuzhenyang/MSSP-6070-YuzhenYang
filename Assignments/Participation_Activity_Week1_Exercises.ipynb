{
  "cells": [
    {
      "cell_type": "markdown",
      "metadata": {
        "id": "view-in-github",
        "colab_type": "text"
      },
      "source": [
        "<a href=\"https://colab.research.google.com/github/felixyuzhenyang/MSSP-6070-YuzhenYang/blob/main/Participation_Activity_Week1_Exercises.ipynb\" target=\"_parent\"><img src=\"https://colab.research.google.com/assets/colab-badge.svg\" alt=\"Open In Colab\"/></a>"
      ]
    },
    {
      "cell_type": "markdown",
      "metadata": {
        "id": "yTysJKRLTlw_"
      },
      "source": [
        "# Coding exercises\n",
        "Exercises 1-3 are thought exercises that don't require coding.\n",
        "\n",
        "1. Explore the Jupyter Lab interface and look at some of the shortcuts available. Don't worry about memorizing them now (eventually they will become second nature and save you a lot of time), just get comfortable using notebooks.\n",
        "\n",
        "2. Are all data normally distributed?\n",
        "\n",
        "3. When would it make more sense to use the median instead of the mean for the measure of center?"
      ]
    },
    {
      "cell_type": "markdown",
      "source": [
        "1. Copy that!\n",
        "2. No. e.g.1: When rolling a dice, the outcome follows a uniform distribution. e.g. 2: In the real world, household income usually follows a right-skewed distribution, as most families have a median or low income level, while only a few families have extremely high incomes.\n",
        "3. Using the median instead of the mean makes more sense when the data is skewed or contains outliers. The median is a robust measure of center because it is not affected by extremely large or small values. In contrast, the mean is highly sensitive to outliers."
      ],
      "metadata": {
        "id": "MGwVZf3IDWAZ"
      }
    },
    {
      "cell_type": "markdown",
      "metadata": {
        "id": "8jkOuR0RTlxA"
      },
      "source": [
        "## Exercise 4: Generate the data by running this cell\n",
        "This will give you a list of numbers to work with in the remaining exercises."
      ]
    },
    {
      "cell_type": "code",
      "execution_count": null,
      "metadata": {
        "colab": {
          "base_uri": "https://localhost:8080/"
        },
        "id": "PWCeb96yTlxB",
        "outputId": "0c423bc3-a9c5-4b43-b779-98b1636e434e"
      },
      "outputs": [
        {
          "output_type": "stream",
          "name": "stdout",
          "text": [
            "[844000.0, 758000.0, 421000.0, 259000.0, 511000.0, 405000.0, 784000.0, 303000.0, 477000.0, 583000.0, 908000.0, 505000.0, 282000.0, 756000.0, 618000.0, 251000.0, 910000.0, 983000.0, 810000.0, 902000.0, 310000.0, 730000.0, 899000.0, 684000.0, 472000.0, 101000.0, 434000.0, 611000.0, 913000.0, 967000.0, 477000.0, 865000.0, 260000.0, 805000.0, 549000.0, 14000.0, 720000.0, 399000.0, 825000.0, 668000.0, 1000.0, 494000.0, 868000.0, 244000.0, 325000.0, 870000.0, 191000.0, 568000.0, 239000.0, 968000.0, 803000.0, 448000.0, 80000.0, 320000.0, 508000.0, 933000.0, 109000.0, 551000.0, 707000.0, 547000.0, 814000.0, 540000.0, 964000.0, 603000.0, 588000.0, 445000.0, 596000.0, 385000.0, 576000.0, 290000.0, 189000.0, 187000.0, 613000.0, 657000.0, 477000.0, 90000.0, 758000.0, 877000.0, 923000.0, 842000.0, 898000.0, 923000.0, 541000.0, 391000.0, 705000.0, 276000.0, 812000.0, 849000.0, 895000.0, 590000.0, 950000.0, 580000.0, 451000.0, 660000.0, 996000.0, 917000.0, 793000.0, 82000.0, 613000.0, 486000.0]\n"
          ]
        }
      ],
      "source": [
        "import random\n",
        "random.seed(0)\n",
        "salaries = [round(random.random()*1000000, -3) for _ in range(100)]\n",
        "print(list(salaries))"
      ]
    },
    {
      "cell_type": "markdown",
      "metadata": {
        "id": "FnC6Y-A-TlxB"
      },
      "source": [
        "## Exercise 5: Calculating statistics and verifying\n",
        "\n",
        "Use the data generated above to calulate in code the following statistics without importing the statistics module. Then use the statistics module to verify your results.  Import the statistics module from https://docs.python.org/3/library/statistics.html\n",
        "\n",
        "### mean"
      ]
    },
    {
      "cell_type": "code",
      "execution_count": null,
      "metadata": {
        "colab": {
          "base_uri": "https://localhost:8080/"
        },
        "id": "Y3bKJmZ1TlxB",
        "outputId": "ec756db1-ffd7-4b82-cc86-cb4a6d6eaf5e"
      },
      "outputs": [
        {
          "output_type": "stream",
          "name": "stdout",
          "text": [
            "mean without statistics module: 585690.0\n",
            "mean with statistics module: 585690.0\n",
            "Verified!\n"
          ]
        }
      ],
      "source": [
        "# without statistics module\n",
        "mean_salary = sum(salaries) / len(salaries)\n",
        "print(f\"mean without statistics module: {mean_salary}\")\n",
        "\n",
        "# with statistics module\n",
        "import statistics\n",
        "mean_salary_stats = statistics.mean(salaries)\n",
        "print(f\"mean with statistics module: {mean_salary_stats}\")\n",
        "\n",
        "# verification\n",
        "if mean_salary == mean_salary_stats:\n",
        "    print(\"Verified!\")\n",
        "else:\n",
        "    print(\"Oh no!\")"
      ]
    },
    {
      "cell_type": "markdown",
      "metadata": {
        "id": "xfozKRW_TlxB"
      },
      "source": [
        "### median"
      ]
    },
    {
      "cell_type": "code",
      "execution_count": null,
      "metadata": {
        "colab": {
          "base_uri": "https://localhost:8080/"
        },
        "id": "CzowoR8hTlxB",
        "outputId": "d84ff59c-b6cb-4a5f-dc05-a013910e8787"
      },
      "outputs": [
        {
          "output_type": "stream",
          "name": "stdout",
          "text": [
            "median without statistics module: 589000.0\n",
            "median with statistics module: 589000.0\n",
            "Verified!\n"
          ]
        }
      ],
      "source": [
        "# without statistics module\n",
        "salaries.sort()\n",
        "\n",
        "n = len(salaries)\n",
        "if n % 2 == 0:\n",
        "    m1 = salaries[n // 2 - 1]\n",
        "    m2 = salaries[n // 2]\n",
        "    median_salary = (m1 + m2) / 2\n",
        "else:\n",
        "   median_salary = salaries[n // 2]\n",
        "print(f\"median without statistics module: {median_salary}\")\n",
        "\n",
        "# with statistics module\n",
        "median_salary_stats = statistics.median(salaries)\n",
        "print(f\"median with statistics module: {median_salary_stats}\")\n",
        "\n",
        "# verification\n",
        "if median_salary == median_salary_stats:\n",
        "    print(\"Verified!\")\n",
        "else:\n",
        "    print(\"Oh no!\")\n"
      ]
    },
    {
      "cell_type": "markdown",
      "metadata": {
        "id": "KvcLWtWbTlxB"
      },
      "source": [
        "### mode"
      ]
    },
    {
      "cell_type": "code",
      "execution_count": null,
      "metadata": {
        "colab": {
          "base_uri": "https://localhost:8080/"
        },
        "id": "yPWw0_FiTlxC",
        "outputId": "c302c3be-369d-49a4-e591-9efb2c7b8b4d"
      },
      "outputs": [
        {
          "output_type": "stream",
          "name": "stdout",
          "text": [
            "mode without statistics module: [477000.0]\n",
            "mode with statistics module: [477000.0]\n",
            "Verified!\n"
          ]
        }
      ],
      "source": [
        "# without statistics module\n",
        "salary_counts = {}\n",
        "for salary in salaries:\n",
        "    if salary in salary_counts:\n",
        "        salary_counts[salary] += 1\n",
        "    else:\n",
        "        salary_counts[salary] = 1\n",
        "\n",
        "max_count = 0\n",
        "for count in salary_counts.values():\n",
        "    if count > max_count:\n",
        "        max_count = count\n",
        "\n",
        "modes_salary = []\n",
        "for salary, count in salary_counts.items():\n",
        "    if count == max_count:\n",
        "        modes_salary.append(salary)\n",
        "\n",
        "print(f\"mode without statistics module: {modes_salary}\")\n",
        "\n",
        "# with statistics module\n",
        "modes_salary_stats = statistics.multimode(salaries)\n",
        "print(f\"mode with statistics module: {modes_salary_stats}\")\n",
        "\n",
        "# verification\n",
        "if sorted(modes_salary) == sorted(modes_salary_stats):\n",
        "    print(\"Verified!\")\n",
        "else:\n",
        "    print(\"Oh no!\")"
      ]
    },
    {
      "cell_type": "markdown",
      "metadata": {
        "id": "NzXcs5rrTlxC"
      },
      "source": [
        "### sample variance\n",
        "Remember to use Bessel's correction."
      ]
    },
    {
      "cell_type": "code",
      "execution_count": null,
      "metadata": {
        "colab": {
          "base_uri": "https://localhost:8080/"
        },
        "id": "5EShcLUsTlxC",
        "outputId": "70f0ee17-8091-4309-efb1-0ac67be34237"
      },
      "outputs": [
        {
          "output_type": "stream",
          "name": "stdout",
          "text": [
            "variance without statistics module: 70664054444.44444\n",
            "variance with statistics module: 70664054444.44444\n",
            "Verified!\n"
          ]
        }
      ],
      "source": [
        "# without statistics module\n",
        "sum_sq = sum([(i - mean_salary)**2 for i in salaries])\n",
        "var_salary = sum_sq / (n - 1)\n",
        "print(f\"variance without statistics module: {var_salary}\")\n",
        "\n",
        "# with statistics module\n",
        "var_salary_stats = statistics.variance(salaries)\n",
        "print(f\"variance with statistics module: {var_salary_stats}\")\n",
        "\n",
        "# verification\n",
        "if var_salary == var_salary_stats:\n",
        "    print(\"Verified!\")\n",
        "else:\n",
        "    print(\"Oh no!\")\n"
      ]
    },
    {
      "cell_type": "markdown",
      "metadata": {
        "id": "LaZ9S-CzTlxC"
      },
      "source": [
        "### sample standard deviation\n",
        "Remember to use Bessel's correction."
      ]
    },
    {
      "cell_type": "code",
      "execution_count": null,
      "metadata": {
        "colab": {
          "base_uri": "https://localhost:8080/"
        },
        "id": "ZD8PXtjQTlxC",
        "outputId": "0ef0d9b7-7364-4e89-8b29-3ae6ad519ad9"
      },
      "outputs": [
        {
          "output_type": "stream",
          "name": "stdout",
          "text": [
            "standard deviation without statistics module: 265827.11382484\n",
            "standard deviation with statistics module: 265827.11382484\n",
            "Verified!\n"
          ]
        }
      ],
      "source": [
        "import math\n",
        "# without statistics module\n",
        "sd_salary = math.sqrt(var_salary)\n",
        "print(f\"standard deviation without statistics module: {sd_salary}\")\n",
        "\n",
        "# with statistics module\n",
        "sd_salary_stats = statistics.stdev(salaries)\n",
        "print(f\"standard deviation with statistics module: {sd_salary_stats}\")\n",
        "\n",
        "# verification\n",
        "if sd_salary == sd_salary_stats:\n",
        "    print(\"Verified!\")\n",
        "else:\n",
        "    print(\"Oh no!\")\n"
      ]
    },
    {
      "cell_type": "markdown",
      "metadata": {
        "id": "QYoM1rctTlxC"
      },
      "source": [
        "## Exercise 6: Calculating more statistics\n",
        "### range"
      ]
    },
    {
      "cell_type": "code",
      "execution_count": null,
      "metadata": {
        "colab": {
          "base_uri": "https://localhost:8080/"
        },
        "id": "AQCN3pvrTlxC",
        "outputId": "6a3805be-2c52-4512-b47f-4cc06b2d33bf"
      },
      "outputs": [
        {
          "output_type": "stream",
          "name": "stdout",
          "text": [
            "range: 995000.0\n"
          ]
        }
      ],
      "source": [
        "range_salary = max(salaries) - min(salaries)\n",
        "print(f\"range: {range_salary}\")"
      ]
    },
    {
      "cell_type": "markdown",
      "metadata": {
        "id": "NCoiC69kTlxC"
      },
      "source": [
        "### coefficient of variation"
      ]
    },
    {
      "cell_type": "code",
      "execution_count": null,
      "metadata": {
        "colab": {
          "base_uri": "https://localhost:8080/"
        },
        "id": "XSLvCvcvTlxC",
        "outputId": "53e75835-7d92-4d18-cf9d-9fa06766e7d9"
      },
      "outputs": [
        {
          "output_type": "stream",
          "name": "stdout",
          "text": [
            "coefficient of variation: 0.45386998894439035\n"
          ]
        }
      ],
      "source": [
        "cv_salary = sd_salary / mean_salary\n",
        "print(f\"coefficient of variation: {cv_salary}\")"
      ]
    },
    {
      "cell_type": "markdown",
      "metadata": {
        "id": "zl9OIz8jTlxC"
      },
      "source": [
        "### interquartile range"
      ]
    },
    {
      "cell_type": "code",
      "execution_count": null,
      "metadata": {
        "colab": {
          "base_uri": "https://localhost:8080/",
          "height": 71
        },
        "id": "mfF7I0sITlxC",
        "outputId": "b4973780-fb3b-4a58-f11d-3a494c320035"
      },
      "outputs": [
        {
          "output_type": "stream",
          "name": "stdout",
          "text": [
            "IQR: 413250.0\n"
          ]
        },
        {
          "output_type": "execute_result",
          "data": {
            "text/plain": [
              "'\\nI used NumPy’s method to calculate percentiles,\\nwhich is a bit different from the solution’s approach.\\nThat’s why my quantiles\\n(and therefore the IQR and quartile coefficent of dispersion) are slightly different.\\n'"
            ],
            "application/vnd.google.colaboratory.intrinsic+json": {
              "type": "string"
            }
          },
          "metadata": {},
          "execution_count": 22
        }
      ],
      "source": [
        "import numpy as np\n",
        "q1 = np.percentile(salaries, 25)\n",
        "q3 = np.percentile(salaries, 75)\n",
        "iqr = q3 - q1\n",
        "\n",
        "print(f\"IQR: {iqr}\")\n",
        "\n",
        "\"\"\"\n",
        "I used NumPy’s method to calculate percentiles,\n",
        "which is a bit different from the solution’s approach.\n",
        "That’s why my quantiles\n",
        "(and therefore the IQR and quartile coefficent of dispersion) are slightly different.\n",
        "\"\"\""
      ]
    },
    {
      "cell_type": "markdown",
      "metadata": {
        "id": "xZOUrc5tTlxC"
      },
      "source": [
        "### quartile coefficent of dispersion"
      ]
    },
    {
      "cell_type": "code",
      "execution_count": null,
      "metadata": {
        "colab": {
          "base_uri": "https://localhost:8080/"
        },
        "id": "LDrVd3RGTlxC",
        "outputId": "2858c6b3-143e-49ce-ff78-11cb5d01543f"
      },
      "outputs": [
        {
          "output_type": "stream",
          "name": "stdout",
          "text": [
            "QCD: 0.338660110633067\n"
          ]
        }
      ],
      "source": [
        "qcd = (q3 - q1) / (q3 + q1)\n",
        "\n",
        "print(f\"QCD: {qcd}\")"
      ]
    },
    {
      "cell_type": "markdown",
      "metadata": {
        "id": "4N3hiNTHTlxC"
      },
      "source": [
        "## Exercise 7: Scaling data\n",
        "### min-max scaling"
      ]
    },
    {
      "cell_type": "code",
      "execution_count": null,
      "metadata": {
        "colab": {
          "base_uri": "https://localhost:8080/"
        },
        "id": "30D4YHruTlxC",
        "outputId": "796aeb8f-b75c-42f2-af62-dca6e5af494e"
      },
      "outputs": [
        {
          "output_type": "stream",
          "name": "stdout",
          "text": [
            "scaled salary: [0.0, 0.01306532663316583, 0.07939698492462312, 0.0814070351758794, 0.08944723618090453, 0.10050251256281408, 0.10854271356783919, 0.18693467336683417, 0.18894472361809045, 0.19095477386934673, 0.23919597989949748, 0.2442211055276382, 0.25125628140703515, 0.2592964824120603, 0.26030150753768844, 0.27638190954773867, 0.28241206030150756, 0.2904522613065327, 0.3035175879396985, 0.31055276381909547, 0.32060301507537686, 0.3256281407035176, 0.385929648241206, 0.39195979899497485, 0.4, 0.40603015075376886, 0.4221105527638191, 0.43517587939698493, 0.4462311557788945, 0.4492462311557789, 0.45226130653266333, 0.4733668341708543, 0.47839195979899496, 0.47839195979899496, 0.47839195979899496, 0.48743718592964824, 0.49547738693467336, 0.5065326633165829, 0.5095477386934674, 0.5125628140703518, 0.5417085427135678, 0.542713567839196, 0.5487437185929648, 0.5507537688442211, 0.5527638190954773, 0.5698492462311557, 0.5778894472361809, 0.5819095477386935, 0.5849246231155779, 0.5899497487437186, 0.5919597989949749, 0.5979899497487438, 0.6050251256281407, 0.6130653266331658, 0.6150753768844222, 0.6150753768844222, 0.6201005025125628, 0.6592964824120603, 0.6623115577889447, 0.6703517587939698, 0.6864321608040201, 0.7075376884422111, 0.7095477386934673, 0.7226130653266332, 0.7326633165829146, 0.7587939698492462, 0.7608040201005025, 0.7608040201005025, 0.7869346733668342, 0.7959798994974875, 0.8060301507537688, 0.8080402010050252, 0.8130653266331658, 0.8150753768844221, 0.8170854271356784, 0.828140703517588, 0.8452261306532663, 0.8472361809045226, 0.8522613065326633, 0.8683417085427135, 0.871356783919598, 0.8733668341708543, 0.8804020100502512, 0.8984924623115578, 0.9015075376884422, 0.9025125628140703, 0.9055276381909547, 0.9115577889447236, 0.91356783919598, 0.9165829145728643, 0.9206030150753769, 0.9266331658291457, 0.9266331658291457, 0.9366834170854271, 0.9537688442211055, 0.9678391959798995, 0.9708542713567839, 0.9718592964824121, 0.9869346733668342, 1.0]\n"
          ]
        }
      ],
      "source": [
        "scaled_salaries = []\n",
        "for salary in salaries:\n",
        "  scaled_salaries.append ((salary - min(salaries)) / (max(salaries) - min(salaries)))\n",
        "\n",
        "print(f\"scaled salary: {scaled_salaries}\")"
      ]
    },
    {
      "cell_type": "markdown",
      "metadata": {
        "id": "YznITKVITlxC"
      },
      "source": [
        "### standardizing"
      ]
    },
    {
      "cell_type": "code",
      "execution_count": null,
      "metadata": {
        "colab": {
          "base_uri": "https://localhost:8080/"
        },
        "id": "MKdm5YrcTlxC",
        "outputId": "f4ce7365-2dee-4873-e873-24ec20fdd132"
      },
      "outputs": [
        {
          "output_type": "stream",
          "name": "stdout",
          "text": [
            "standardized salary: [-2.199512275430514, -2.150608309943509, -1.9023266390094862, -1.8948029520114855, -1.8647082040194827, -1.8233279255304788, -1.7932331775384762, -1.4998093846164489, -1.4922856976184482, -1.4847620106204475, -1.304193522668431, -1.285384305173429, -1.2590514006804265, -1.228956652688424, -1.2251948091894236, -1.165005313205418, -1.142434252211416, -1.112339504219413, -1.0634355387324086, -1.037102634239406, -0.9994841992494026, -0.9806749817544008, -0.7549643718143799, -0.7323933108203778, -0.7022985628283751, -0.6797275018343729, -0.6195380058503674, -0.5706340403633628, -0.529253761874359, -0.517968231377358, -0.5066827008803569, -0.4276839874013496, -0.40887476990634786, -0.40887476990634786, -0.40887476990634786, -0.37501817841534474, -0.34492343042334195, -0.3035431519343381, -0.2922576214373371, -0.28097209094033604, -0.17187862946932592, -0.16811678597032556, -0.14554572497632348, -0.1380220379783228, -0.1304983509803221, -0.06654701149731616, -0.03645226350531338, -0.02140488950931198, -0.010119359012310937, 0.008689858482690806, 0.016213545480691503, 0.038784606474693596, 0.06511751096769604, 0.09521225895969881, 0.10273594595769951, 0.10273594595769951, 0.12154516345270126, 0.26825705991371485, 0.2795425904107159, 0.3096373384027187, 0.36982683438672426, 0.4488255478657316, 0.4563492348637323, 0.5052532003507368, 0.5428716353407403, 0.6406795663147493, 0.6482032533127501, 0.6482032533127501, 0.7460111842867592, 0.7798677757777622, 0.8174862107677657, 0.8250098977657664, 0.8438191152607681, 0.8513428022587689, 0.8588664892567696, 0.9002467677457734, 0.9641981072287793, 0.9717217942267801, 0.9905310117217818, 1.0507205077057873, 1.0620060382027885, 1.0695297252007891, 1.0958626296937914, 1.1635758126757978, 1.1748613431727988, 1.178623186671799, 1.1899087171688003, 1.2124797781628023, 1.220003465160803, 1.2312889956578041, 1.2463363696538055, 1.2689074306478076, 1.2689074306478076, 1.3065258656378111, 1.370477205120817, 1.4231430141068218, 1.434428544603823, 1.4381903881028233, 1.4946180405878284, 1.543522006074833]\n"
          ]
        }
      ],
      "source": [
        "standardized_salaries = []\n",
        "for salary in salaries:\n",
        "  standardized_salaries.append((salary - mean_salary) / sd_salary)\n",
        "\n",
        "print(f\"standardized salary: {standardized_salaries}\")"
      ]
    },
    {
      "cell_type": "markdown",
      "metadata": {
        "id": "hmTq8s9jTlxC"
      },
      "source": [
        "## Exercise 8: Calculating covariance and correlation\n",
        "### covariance"
      ]
    },
    {
      "cell_type": "code",
      "execution_count": null,
      "metadata": {
        "colab": {
          "base_uri": "https://localhost:8080/"
        },
        "id": "5KmFxfaNTlxC",
        "outputId": "33e0a3f6-c17c-4141-cfcc-817bebad059e"
      },
      "outputs": [
        {
          "output_type": "stream",
          "name": "stdout",
          "text": [
            "covariance(scaled salaries & standardized salaries) : 0.267162928467176\n",
            "years of education: [21 14  9 12 20 12 16 18 12 14 11 13 16 15 17 17 21 19 10 15 16 16 17 10\n",
            " 14 18 22 17 18 13 12  9 12 14  9 11 12 17 10 12 22 12 12 16  9 10 18 18\n",
            "  9 19 13 16 12 20 11 16 21 11  9  9 13 14 14 15 17 13 10 13 18 19 19 17\n",
            " 10 10 16 18 18 12 15 16 20 11 20  9 12 14 21 18 19 13 20 13 15 13 13 12\n",
            " 21 13 13 17]\n",
            "covariance(salaries & years of education): 20162.424242424317\n"
          ]
        }
      ],
      "source": [
        "# covariance between scaled salaries & standardizedsalaries ()\n",
        "import numpy as np\n",
        "cov_matrix_salary = np.cov(scaled_salaries, standardized_salaries)\n",
        "cov_salary = cov_matrix_salary[0, 1]\n",
        "print(f\"covariance(scaled salaries & standardized salaries) : {cov_salary}\")\n",
        "\n",
        "\"\"\"\n",
        " Since the code above did not include other variables besides salaries,\n",
        " I created a new random variable: years of education (edu), for further calculation.\n",
        "\"\"\"\n",
        "# years of education\n",
        "n = len(salaries)\n",
        "np.random.seed(0)\n",
        "edu = np.random.randint(9, 23, n)\n",
        "\n",
        "print(f\"years of education: {edu}\")\n",
        "\n",
        "#covariance\n",
        "cov_matrix = np.cov(edu, salaries)\n",
        "cov_salary_edu = cov_matrix[0, 1]\n",
        "\n",
        "print(f\"covariance(salaries & years of education): {cov_salary_edu}\")"
      ]
    },
    {
      "cell_type": "markdown",
      "metadata": {
        "id": "Xru-Rv8_TlxD"
      },
      "source": [
        "### Pearson correlation coefficient ($\\rho$)"
      ]
    },
    {
      "cell_type": "code",
      "execution_count": null,
      "metadata": {
        "colab": {
          "base_uri": "https://localhost:8080/"
        },
        "id": "JPiJuCefTlxD",
        "outputId": "16e7fbdb-8711-475c-ee98-7ea73782f411"
      },
      "outputs": [
        {
          "output_type": "stream",
          "name": "stdout",
          "text": [
            "correlation coefficient(scaled salaries & standardized salaries) : 1.0\n",
            "correlation coefficient(salaries & years of education): 0.020852839875806002\n"
          ]
        }
      ],
      "source": [
        "# correlation coefficient between scaled salaries & standardizedsalaries\n",
        "corr_matrix_salary = np.corrcoef(scaled_salaries, standardized_salaries)\n",
        "corr_salary = corr_matrix_salary[0, 1]\n",
        "print(f\"correlation coefficient(scaled salaries & standardized salaries) : {corr_salary}\")\n",
        "\n",
        "# correlation coefficient\n",
        "corr_matrix = np.corrcoef(edu, salaries)\n",
        "corr_salary_edu = corr_matrix[0, 1]\n",
        "\n",
        "print(f\"correlation coefficient(salaries & years of education): {corr_salary_edu}\")"
      ]
    }
  ],
  "metadata": {
    "kernelspec": {
      "display_name": "Python 3 (ipykernel)",
      "language": "python",
      "name": "python3"
    },
    "language_info": {
      "codemirror_mode": {
        "name": "ipython",
        "version": 3
      },
      "file_extension": ".py",
      "mimetype": "text/x-python",
      "name": "python",
      "nbconvert_exporter": "python",
      "pygments_lexer": "ipython3",
      "version": "3.9.16"
    },
    "colab": {
      "provenance": [],
      "include_colab_link": true
    }
  },
  "nbformat": 4,
  "nbformat_minor": 0
}
