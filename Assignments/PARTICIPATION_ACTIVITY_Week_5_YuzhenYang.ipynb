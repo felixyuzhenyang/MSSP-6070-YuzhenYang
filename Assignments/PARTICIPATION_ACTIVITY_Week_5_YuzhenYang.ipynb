{
  "nbformat": 4,
  "nbformat_minor": 0,
  "metadata": {
    "colab": {
      "provenance": [],
      "authorship_tag": "ABX9TyPRnoHA2IGUuhGyiEADsa80",
      "include_colab_link": true
    },
    "kernelspec": {
      "name": "python3",
      "display_name": "Python 3"
    },
    "language_info": {
      "name": "python"
    }
  },
  "cells": [
    {
      "cell_type": "markdown",
      "metadata": {
        "id": "view-in-github",
        "colab_type": "text"
      },
      "source": [
        "<a href=\"https://colab.research.google.com/github/felixyuzhenyang/MSSP-6070-YuzhenYang/blob/main/PARTICIPATION_ACTIVITY_Week_5_YuzhenYang.ipynb\" target=\"_parent\"><img src=\"https://colab.research.google.com/assets/colab-badge.svg\" alt=\"Open In Colab\"/></a>"
      ]
    },
    {
      "cell_type": "markdown",
      "source": [
        "a. Create a folder structure that allows you to use the Jupyter Notebooks and data files in Google Colab. Hint: Clone your GitHub repository to Colab."
      ],
      "metadata": {
        "id": "uLpgIhU14r7M"
      }
    },
    {
      "cell_type": "code",
      "execution_count": 2,
      "metadata": {
        "colab": {
          "base_uri": "https://localhost:8080/"
        },
        "id": "FSOr_rzA2A1l",
        "outputId": "c75e6379-4511-4f02-ee24-e4ba42b0bbaa"
      },
      "outputs": [
        {
          "output_type": "stream",
          "name": "stdout",
          "text": [
            "Cloning into 'MSSP-6070-YuzhenYang'...\n",
            "remote: Enumerating objects: 171, done.\u001b[K\n",
            "remote: Counting objects: 100% (171/171), done.\u001b[K\n",
            "remote: Compressing objects: 100% (142/142), done.\u001b[K\n",
            "remote: Total 171 (delta 93), reused 33 (delta 22), pack-reused 0 (from 0)\u001b[K\n",
            "Receiving objects: 100% (171/171), 6.16 MiB | 3.33 MiB/s, done.\n",
            "Resolving deltas: 100% (93/93), done.\n"
          ]
        }
      ],
      "source": [
        "from google.colab import userdata\n",
        "import os\n",
        "\n",
        "github_token = userdata.get('GitHub_MSSP6070')\n",
        "owner = 'felixyuzhenyang'\n",
        "repository = 'MSSP-6070-YuzhenYang'\n",
        "\n",
        "clone_url = f'https://{github_token}@github.com/{owner}/{repository}.git'\n",
        "\n",
        "!git clone {clone_url}\n",
        "\n"
      ]
    },
    {
      "cell_type": "markdown",
      "source": [
        "2. Complete the following exercise:"
      ],
      "metadata": {
        "id": "sYFCVwzi4u1H"
      }
    },
    {
      "cell_type": "code",
      "source": [
        "## a–e\n",
        "\n",
        "import pandas as pd\n",
        "import os\n",
        "\n",
        "%pushd \"/content/MSSP-6070-YuzhenYang/data/Week05\"\n",
        "files = ['aapl.csv', 'amzn.csv', 'fb.csv', 'goog.csv', 'nflx.csv']\n",
        "\n",
        "all_dfs = []\n",
        "print(\"processing...\")\n",
        "\n",
        "for file in files:\n",
        "    print(f\"reading file: {file}\")\n",
        "    df = pd.read_csv(file)\n",
        "\n",
        "    ticker = os.path.splitext(file)[0].upper()\n",
        "    df['ticker'] = ticker\n",
        "\n",
        "    all_dfs.append(df)\n",
        "\n",
        "print(\"Successfully processed all files, start merging now...\")\n",
        "\n",
        "combined_df = pd.concat(all_dfs, ignore_index=True)\n",
        "\n",
        "output_filename = 'faanf.csv'\n",
        "combined_df.to_csv(output_filename, index=False)\n",
        "\n",
        "print(f\"\\ndata successfully merged and saved to file '{output_filename}'.\")\n",
        "print(\"\\nFirst five row of the merged data: \")\n",
        "print(combined_df.head())\n",
        "print(\"\\nLast five row of the merged data: \")\n",
        "print(combined_df.tail())"
      ],
      "metadata": {
        "colab": {
          "base_uri": "https://localhost:8080/"
        },
        "id": "44h_63tU2WJY",
        "outputId": "e06c213f-41a6-4ea4-f546-8cb76c7f948c"
      },
      "execution_count": 7,
      "outputs": [
        {
          "output_type": "stream",
          "name": "stdout",
          "text": [
            "/content/MSSP-6070-YuzhenYang/data/Week05\n",
            "processing...\n",
            "reading file: aapl.csv\n",
            "reading file: amzn.csv\n",
            "reading file: fb.csv\n",
            "reading file: goog.csv\n",
            "reading file: nflx.csv\n",
            "Successfully processed all files, start merging now...\n",
            "\n",
            "data successfully merged and saved to file 'faanf.csv'.\n",
            "\n",
            "First five row of the merged data: \n",
            "         date      open      high       low     close    volume ticker\n",
            "0  2018-01-02  166.9271  169.0264  166.0442  168.9872  25555934   AAPL\n",
            "1  2018-01-03  169.2521  171.2337  168.6929  168.9578  29517899   AAPL\n",
            "2  2018-01-04  169.2619  170.1742  168.8106  169.7426  22434597   AAPL\n",
            "3  2018-01-05  170.1448  172.0381  169.7622  171.6751  23660018   AAPL\n",
            "4  2018-01-08  171.0375  172.2736  170.6255  171.0375  20567766   AAPL\n",
            "\n",
            "Last five row of the merged data: \n",
            "            date    open      high     low    close    volume ticker\n",
            "1250  2018-12-24  242.00  250.6500  233.68  233.880   9547616   NFLX\n",
            "1251  2018-12-26  233.92  254.5000  231.23  253.670  14402735   NFLX\n",
            "1252  2018-12-27  250.11  255.5900  240.10  255.565  12235217   NFLX\n",
            "1253  2018-12-28  257.94  261.9144  249.80  256.080  10987286   NFLX\n",
            "1254  2018-12-31  260.16  270.1001  260.00  267.660  13508920   NFLX\n"
          ]
        }
      ]
    },
    {
      "cell_type": "code",
      "source": [
        "## f–h\n",
        "\n",
        "try:\n",
        "    df = pd.read_csv('faanf.csv')\n",
        "except FileNotFoundError:\n",
        "    print(\"error: 'faanf.csv' not found.\")\n",
        "    exit()\n",
        "\n",
        "# f.\n",
        "df['date'] = pd.to_datetime(df['date'])\n",
        "df['volume'] = df['volume'].astype('int64')\n",
        "\n",
        "df_sorted = df.sort_values(by=['date', 'ticker'])\n",
        "\n",
        "df_sorted.info()\n",
        "print(df_sorted.head())\n",
        "print(\"-\" * 50)\n",
        "\n",
        "# g.\n",
        "highest_volume_rows = df_sorted.nlargest(7, 'volume')\n",
        "\n",
        "print(\"The seven rows within the highest value for volume:\")\n",
        "print(highest_volume_rows)\n",
        "print(\"-\" * 50)\n",
        "\n",
        "# h.\n",
        "melted_df = df_sorted.melt(\n",
        "    id_vars=['date', 'ticker'],\n",
        "    var_name='measurement',\n",
        "    value_name='value'\n",
        ")\n",
        "\n",
        "print(\"\\nFirst ten row of the merged data: \")\n",
        "print(melted_df.head(10))\n",
        "print(\"\\nLast ten row of the merged data:\")\n",
        "print(melted_df.tail(10))"
      ],
      "metadata": {
        "colab": {
          "base_uri": "https://localhost:8080/"
        },
        "id": "9C8NqU4S3ann",
        "outputId": "f07d4efb-9a80-4ec7-b02b-7cbb749641d2"
      },
      "execution_count": 8,
      "outputs": [
        {
          "output_type": "stream",
          "name": "stdout",
          "text": [
            "<class 'pandas.core.frame.DataFrame'>\n",
            "Index: 1255 entries, 0 to 1254\n",
            "Data columns (total 7 columns):\n",
            " #   Column  Non-Null Count  Dtype         \n",
            "---  ------  --------------  -----         \n",
            " 0   date    1255 non-null   datetime64[ns]\n",
            " 1   open    1255 non-null   float64       \n",
            " 2   high    1255 non-null   float64       \n",
            " 3   low     1255 non-null   float64       \n",
            " 4   close   1255 non-null   float64       \n",
            " 5   volume  1255 non-null   int64         \n",
            " 6   ticker  1255 non-null   object        \n",
            "dtypes: datetime64[ns](1), float64(4), int64(1), object(1)\n",
            "memory usage: 78.4+ KB\n",
            "           date       open       high        low      close    volume ticker\n",
            "0    2018-01-02   166.9271   169.0264   166.0442   168.9872  25555934   AAPL\n",
            "251  2018-01-02  1172.0000  1190.0000  1170.5100  1189.0100   2694494   AMZN\n",
            "502  2018-01-02   177.6800   181.5800   177.5500   181.4200  18151903     FB\n",
            "753  2018-01-02  1048.3400  1066.9400  1045.2300  1065.0000   1237564   GOOG\n",
            "1004 2018-01-02   196.1000   201.6500   195.4200   201.0700  10966889   NFLX\n",
            "--------------------------------------------------\n",
            "The seven rows within the highest value for volume:\n",
            "          date      open      high       low     close     volume ticker\n",
            "644 2018-07-26  174.8900  180.1300  173.7500  176.2600  169803668     FB\n",
            "555 2018-03-20  167.4700  170.2000  161.9500  168.1500  129851768     FB\n",
            "559 2018-03-26  160.8200  161.1000  149.0200  160.0600  126116634     FB\n",
            "556 2018-03-21  164.8000  173.4000  163.3000  169.3900  106598834     FB\n",
            "182 2018-09-21  219.0727  219.6482  215.6097  215.9768   96246748   AAPL\n",
            "245 2018-12-21  156.1901  157.4845  148.9909  150.0862   95744384   AAPL\n",
            "212 2018-11-02  207.9295  211.9978  203.8414  205.8755   91328654   AAPL\n",
            "--------------------------------------------------\n",
            "\n",
            "First ten row of the merged data: \n",
            "        date ticker measurement      value\n",
            "0 2018-01-02   AAPL        open   166.9271\n",
            "1 2018-01-02   AMZN        open  1172.0000\n",
            "2 2018-01-02     FB        open   177.6800\n",
            "3 2018-01-02   GOOG        open  1048.3400\n",
            "4 2018-01-02   NFLX        open   196.1000\n",
            "5 2018-01-03   AAPL        open   169.2521\n",
            "6 2018-01-03   AMZN        open  1188.3000\n",
            "7 2018-01-03     FB        open   181.8800\n",
            "8 2018-01-03   GOOG        open  1064.3100\n",
            "9 2018-01-03   NFLX        open   202.0500\n",
            "\n",
            "Last ten row of the merged data:\n",
            "           date ticker measurement       value\n",
            "6265 2018-12-28   AAPL      volume  42291424.0\n",
            "6266 2018-12-28   AMZN      volume   8828950.0\n",
            "6267 2018-12-28     FB      volume  22627569.0\n",
            "6268 2018-12-28   GOOG      volume   1413772.0\n",
            "6269 2018-12-28   NFLX      volume  10987286.0\n",
            "6270 2018-12-31   AAPL      volume  35003466.0\n",
            "6271 2018-12-31   AMZN      volume   6954507.0\n",
            "6272 2018-12-31     FB      volume  24625308.0\n",
            "6273 2018-12-31   GOOG      volume   1493722.0\n",
            "6274 2018-12-31   NFLX      volume  13508920.0\n"
          ]
        }
      ]
    }
  ]
}
