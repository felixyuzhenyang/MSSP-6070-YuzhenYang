{
  "nbformat": 4,
  "nbformat_minor": 0,
  "metadata": {
    "colab": {
      "provenance": [],
      "authorship_tag": "ABX9TyPOX5n5bxgcRZmiTi7W8eb+",
      "include_colab_link": true
    },
    "kernelspec": {
      "name": "python3",
      "display_name": "Python 3"
    },
    "language_info": {
      "name": "python"
    }
  },
  "cells": [
    {
      "cell_type": "markdown",
      "metadata": {
        "id": "view-in-github",
        "colab_type": "text"
      },
      "source": [
        "<a href=\"https://colab.research.google.com/github/felixyuzhenyang/MSSP-6070-YuzhenYang/blob/main/PARTICIPATION_ACTIVITY_Week_6_YuzhenYang.ipynb\" target=\"_parent\"><img src=\"https://colab.research.google.com/assets/colab-badge.svg\" alt=\"Open In Colab\"/></a>"
      ]
    },
    {
      "cell_type": "markdown",
      "source": [
        "PARTICIPATION ACTIVITY Week 6"
      ],
      "metadata": {
        "id": "N9qQa9pdnkH_"
      }
    },
    {
      "cell_type": "code",
      "execution_count": 4,
      "metadata": {
        "colab": {
          "base_uri": "https://localhost:8080/"
        },
        "id": "UZjZkn9Ll06Q",
        "outputId": "cb6c662a-5ad8-47eb-c60e-966fafbde743"
      },
      "outputs": [
        {
          "output_type": "stream",
          "name": "stdout",
          "text": [
            "Cloning into 'MSSP-6070-YuzhenYang'...\n",
            "remote: Enumerating objects: 200, done.\u001b[K\n",
            "remote: Counting objects:   9% (1/11)\u001b[K\rremote: Counting objects:  18% (2/11)\u001b[K\rremote: Counting objects:  27% (3/11)\u001b[K\rremote: Counting objects:  36% (4/11)\u001b[K\rremote: Counting objects:  45% (5/11)\u001b[K\rremote: Counting objects:  54% (6/11)\u001b[K\rremote: Counting objects:  63% (7/11)\u001b[K\rremote: Counting objects:  72% (8/11)\u001b[K\rremote: Counting objects:  81% (9/11)\u001b[K\rremote: Counting objects:  90% (10/11)\u001b[K\rremote: Counting objects: 100% (11/11)\u001b[K\rremote: Counting objects: 100% (11/11), done.\u001b[K\n",
            "remote: Compressing objects: 100% (10/10), done.\u001b[K\n",
            "remote: Total 200 (delta 3), reused 2 (delta 1), pack-reused 189 (from 1)\u001b[K\n",
            "Receiving objects: 100% (200/200), 7.09 MiB | 15.54 MiB/s, done.\n",
            "Resolving deltas: 100% (107/107), done.\n"
          ]
        }
      ],
      "source": [
        "from google.colab import userdata\n",
        "import os\n",
        "os.chdir('/content')\n",
        "github_token = userdata.get('GitHub_MSSP6070')\n",
        "owner = 'felixyuzhenyang'\n",
        "repository = 'MSSP-6070-YuzhenYang'\n",
        "\n",
        "clone_url = f'https://{github_token}@github.com/{owner}/{repository}.git'\n",
        "\n",
        "!git clone {clone_url}"
      ]
    },
    {
      "cell_type": "code",
      "source": [
        "import pandas as pd\n",
        "\n",
        "working_directory = '/content/MSSP-6070-YuzhenYang/data/Week06'\n",
        "try:\n",
        "    os.chdir(working_directory)\n",
        "    print(f\"New working path successfully set: {os.getcwd()}\")\n",
        "except FileNotFoundError:\n",
        "    print(f\"error: path not exist: {working_directory}\")\n",
        "\n",
        "df = pd.read_csv('Student Performance Data.csv')"
      ],
      "metadata": {
        "colab": {
          "base_uri": "https://localhost:8080/"
        },
        "id": "RiV53vs8npFS",
        "outputId": "f12062fc-16cd-4753-91c8-3a82e082e89a"
      },
      "execution_count": 5,
      "outputs": [
        {
          "output_type": "stream",
          "name": "stdout",
          "text": [
            "New working path successfully set: /content/MSSP-6070-YuzhenYang/data/Week06\n"
          ]
        }
      ]
    },
    {
      "cell_type": "code",
      "source": [
        "# This function returns another dataframe includes average scores grouped by gender\n",
        "\n",
        "lambda_gender_average = lambda df_in: (\n",
        "    df_in\n",
        "    .assign(Average_Score=(df_in['math score'] + df_in['reading score'] + df_in['writing score']) / 3)\n",
        "    .groupby('gender', as_index=False)['Average_Score']\n",
        "    .mean()\n",
        "    .sort_values('Average_Score', ascending=False)\n",
        ")\n",
        "\n",
        "df_gender_average = lambda_gender_average(df)\n",
        "\n",
        "print(df_gender_average.head())"
      ],
      "metadata": {
        "colab": {
          "base_uri": "https://localhost:8080/"
        },
        "id": "XIRneJCTpEoX",
        "outputId": "9c30d9f8-59ba-4d8b-d803-6e3d031b3ae6"
      },
      "execution_count": 7,
      "outputs": [
        {
          "output_type": "stream",
          "name": "stdout",
          "text": [
            "   gender  Average_Score\n",
            "0  female      69.569498\n",
            "1    male      65.837483\n"
          ]
        }
      ]
    }
  ]
}
