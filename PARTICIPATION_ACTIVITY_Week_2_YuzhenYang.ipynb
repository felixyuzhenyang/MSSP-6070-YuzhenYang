{
  "nbformat": 4,
  "nbformat_minor": 0,
  "metadata": {
    "colab": {
      "provenance": [],
      "authorship_tag": "ABX9TyOEoPcgfWuaR9VX3Dffe9gs",
      "include_colab_link": true
    },
    "kernelspec": {
      "name": "python3",
      "display_name": "Python 3"
    },
    "language_info": {
      "name": "python"
    }
  },
  "cells": [
    {
      "cell_type": "markdown",
      "metadata": {
        "id": "view-in-github",
        "colab_type": "text"
      },
      "source": [
        "<a href=\"https://colab.research.google.com/github/felixyuzhenyang/MSSP-6070-YuzhenYang/blob/main/PARTICIPATION_ACTIVITY_Week_2_YuzhenYang.ipynb\" target=\"_parent\"><img src=\"https://colab.research.google.com/assets/colab-badge.svg\" alt=\"Open In Colab\"/></a>"
      ]
    },
    {
      "cell_type": "markdown",
      "source": [
        "# PARTICIPATION ACTIVITY Week 2_YuzhenYang"
      ],
      "metadata": {
        "id": "V75eQlmBaaA5"
      }
    },
    {
      "cell_type": "markdown",
      "source": [
        "Q2"
      ],
      "metadata": {
        "id": "AC7HGEHshQl9"
      }
    },
    {
      "cell_type": "code",
      "execution_count": 3,
      "metadata": {
        "colab": {
          "base_uri": "https://localhost:8080/"
        },
        "id": "j67fx1Itg2TX",
        "outputId": "25e7c41e-a5c7-4944-dc10-c24e368202e8"
      },
      "outputs": [
        {
          "output_type": "stream",
          "name": "stdout",
          "text": [
            "[2, 4, 'hello', 8, 10]\n"
          ]
        }
      ],
      "source": [
        "# 2.a\n",
        "spam = [2, 4, 6, 8, 10]\n",
        "\n",
        "#2.b\n",
        "spam[2] = 'hello'\n",
        "\n",
        "print(spam)"
      ]
    },
    {
      "cell_type": "markdown",
      "source": [
        "Q3"
      ],
      "metadata": {
        "id": "AevxZuhthY_S"
      }
    },
    {
      "cell_type": "code",
      "source": [
        "# 3.a\n",
        "letters = ['a', 'b', 'c', 'd']\n",
        "letters[3]\n",
        "# 3.b\n",
        "print(f\"'letters[int(int('3'*2)//11)]' evaluates to: '{letters[int(int('3'*2)//11)]}'\") # See detailed explanation in comments.\n",
        "# 3.c\n",
        "print(f\"'letters[-1]' evaluates to: '{letters[-1]}'\") # See detailed explanation in comments.\n",
        "# 3.d\n",
        "print(f\"'letters[:2]' evaluates to: {letters[:2]}\") # See detailed explanation in comments.\n",
        "\n",
        "\"\"\"\n",
        "3.b\n",
        "By doing string multiplication '3'*2, we get a string '33' ('3' repeated 2 times).\n",
        "int('33') converts a string to an integer.\n",
        "By doing integer division 33 // 11, 33 is divided by 11 and rounds down to the nearest whole number.\n",
        "So the result is 3.\n",
        "So, we are using 3 as the index to access the fourth element from the list.\n",
        "It returns the element 'd‘.\n",
        "\n",
        "3.c\n",
        "By doing negative indexing, the index starts counting from the end of the list.\n",
        "So [-1] refers to the last element of the list,\n",
        "which is the same as letters[3] in this specific case.\n",
        "\n",
        "3.d\n",
        "By doing slicing, we create a new list that is a slice or a part of the original list.\n",
        "In this specific case, the start value is empty,\n",
        "which means we want the slicing to begin with index 0 (the first element).\n",
        "The end value is 2, the slicing process goes up to index 2, but does not include it.\n",
        "So the result returns a list that includes the first two elements.\n",
        "\"\"\""
      ],
      "metadata": {
        "colab": {
          "base_uri": "https://localhost:8080/",
          "height": 232
        },
        "id": "BSBDjTX7hW2X",
        "outputId": "5ba8e63d-8823-4516-a794-270178f79f1d"
      },
      "execution_count": 4,
      "outputs": [
        {
          "output_type": "stream",
          "name": "stdout",
          "text": [
            "'letters[int(int('3'*2)//11)]' evaluates to: 'd'\n",
            "'letters[-1]' evaluates to: 'd'\n",
            "'letters[:2]' evaluates to: ['a', 'b']\n"
          ]
        },
        {
          "output_type": "execute_result",
          "data": {
            "text/plain": [
              "\"\\n3.b\\nBy doing string multiplication '3'*2, we get a string '33' ('3' repeated 2 times).\\nint('33') converts a string to an integer.\\nBy doing integer division 33 // 11, 33 is divided by 11 and rounds down to the nearest whole number.\\nSo the result is 3.\\nSo, we are using 3 as the index to access the fourth element from the list.\\nIt returns the element 'd‘.\\n\\n3.c\\nBy doing negative indexing, the index starts counting from the end of the list. \\nSo [-1] refers to the last element of the list, \\nwhich is the same as letters[3] in this specific case.\\n\\n3.d\\nBy doing slicing, we create a new list that is a slice or a part of the original list. \\nIn this specific case, the start value is empty, \\nwhich means we want the slicing to begin with index 0 (the first element). \\nThe end value is 2, the slicing process goes up to index 2, but does not include it.\\nSo the result returns a list that includes the first two elements.\\n\""
            ],
            "application/vnd.google.colaboratory.intrinsic+json": {
              "type": "string"
            }
          },
          "metadata": {},
          "execution_count": 4
        }
      ]
    },
    {
      "cell_type": "markdown",
      "source": [
        "Q4"
      ],
      "metadata": {
        "id": "QLyb9u2uu_SL"
      }
    },
    {
      "cell_type": "code",
      "source": [
        "# list to tuple\n",
        "list_nba = ['Jocic', 'LeBron', 'Doncic', 'SGA']\n",
        "print(f\"list_version: {list_nba}\")\n",
        "\n",
        "tuple_nba = tuple(list_nba)\n",
        "print(f\"tuple_version: {tuple_nba}\")\n",
        "\n",
        "# tuple to list\n",
        "tuple_atp = ['Alcaraz', 'Sinner', 'Djokovic', 'Fritz']\n",
        "print(f\"tuple_version: {tuple_atp}\")\n",
        "\n",
        "list_atp = list(tuple_atp)\n",
        "print(f\"list_version: {list_atp}\")\n"
      ],
      "metadata": {
        "colab": {
          "base_uri": "https://localhost:8080/"
        },
        "id": "-v81RzZGwpoe",
        "outputId": "fb001ef3-8a39-4f81-bf8a-4cd79b6eecbe"
      },
      "execution_count": 5,
      "outputs": [
        {
          "output_type": "stream",
          "name": "stdout",
          "text": [
            "list_version: ['Jocic', 'LeBron', 'Doncic', 'SGA']\n",
            "tuple_version: ('Jocic', 'LeBron', 'Doncic', 'SGA')\n",
            "tuple_version: ['Alcaraz', 'Sinner', 'Djokovic', 'Fritz']\n",
            "list_version: ['Alcaraz', 'Sinner', 'Djokovic', 'Fritz']\n"
          ]
        }
      ]
    },
    {
      "cell_type": "markdown",
      "source": [
        "Q5"
      ],
      "metadata": {
        "id": "HyNtNoSxPn_F"
      }
    },
    {
      "cell_type": "code",
      "source": [
        "# define the required function\n",
        "def comma_code_practice(items):\n",
        "\n",
        "    if not items:\n",
        "        return \"\"\n",
        "    elif len(items) == 1:\n",
        "        return str(items[0])\n",
        "    else:\n",
        "        formatted_string = \", \".join(str(item) for item in items[:-1])\n",
        "        formatted_string += f\", and {items[-1]}\"\n",
        "        return formatted_string\n",
        "\n",
        "# test\n",
        "spam = ['apples', 'bananas', 'tofu', 'cats']\n",
        "result = comma_code_practice(spam)\n",
        "print(f\"New string: {result}\")"
      ],
      "metadata": {
        "colab": {
          "base_uri": "https://localhost:8080/"
        },
        "id": "11IkJoQ-Pq61",
        "outputId": "a951dde8-4f08-426d-9800-669e1211391b"
      },
      "execution_count": 6,
      "outputs": [
        {
          "output_type": "stream",
          "name": "stdout",
          "text": [
            "New string: apples, bananas, tofu, and cats\n"
          ]
        }
      ]
    },
    {
      "cell_type": "markdown",
      "source": [],
      "metadata": {
        "id": "LADVBJKjTzfS"
      }
    }
  ]
}