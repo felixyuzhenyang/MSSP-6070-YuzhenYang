{
  "nbformat": 4,
  "nbformat_minor": 0,
  "metadata": {
    "colab": {
      "provenance": [],
      "authorship_tag": "ABX9TyPFFYtQZdUyinj9TGTiZGNs",
      "include_colab_link": true
    },
    "kernelspec": {
      "name": "python3",
      "display_name": "Python 3"
    },
    "language_info": {
      "name": "python"
    }
  },
  "cells": [
    {
      "cell_type": "markdown",
      "metadata": {
        "id": "view-in-github",
        "colab_type": "text"
      },
      "source": [
        "<a href=\"https://colab.research.google.com/github/felixyuzhenyang/MSSP-6070-YuzhenYang/blob/main/PARTICIPATION_ACTIVITY_Week_2_YuzhenYang.ipynb\" target=\"_parent\"><img src=\"https://colab.research.google.com/assets/colab-badge.svg\" alt=\"Open In Colab\"/></a>"
      ]
    },
    {
      "cell_type": "markdown",
      "source": [
        "# PARTICIPATION ACTIVITY Week 2_YuzhenYang"
      ],
      "metadata": {
        "id": "V75eQlmBaaA5"
      }
    },
    {
      "cell_type": "markdown",
      "source": [
        "Q2"
      ],
      "metadata": {
        "id": "AC7HGEHshQl9"
      }
    },
    {
      "cell_type": "code",
      "execution_count": 21,
      "metadata": {
        "colab": {
          "base_uri": "https://localhost:8080/"
        },
        "id": "j67fx1Itg2TX",
        "outputId": "c3bd0c05-8ce0-41db-9946-bbee777fe88b"
      },
      "outputs": [
        {
          "output_type": "stream",
          "name": "stdout",
          "text": [
            "[2, 4, 'hello', 8, 10]\n"
          ]
        }
      ],
      "source": [
        "# 2.a\n",
        "spam = [2, 4, 6, 8, 10]\n",
        "\n",
        "#2.b\n",
        "spam[2] = 'hello'\n",
        "\n",
        "print(spam)"
      ]
    },
    {
      "cell_type": "markdown",
      "source": [
        "Q3"
      ],
      "metadata": {
        "id": "AevxZuhthY_S"
      }
    },
    {
      "cell_type": "code",
      "source": [
        "# 3.a\n",
        "letters = ['a', 'b', 'c', 'd']\n",
        "letters[3]\n",
        "# 3.b\n",
        "print(f\"'letters[int(int('3'*2)//11)]' evaluates to: '{letters[int(int('3'*2)//11)]}'\") # See detailed explanation in comments.\n",
        "# 3.c\n",
        "print(f\"'letters[-1]' evaluates to: '{letters[-1]}'\") # See detailed explanation in comments.\n",
        "# 3.d\n",
        "print(f\"'letters[:2]' evaluates to: {letters[:2]}\") # See detailed explanation in comments."
      ],
      "metadata": {
        "colab": {
          "base_uri": "https://localhost:8080/"
        },
        "id": "BSBDjTX7hW2X",
        "outputId": "1dc38d4d-5cb8-4bfd-c74e-0be7f92064d9"
      },
      "execution_count": 22,
      "outputs": [
        {
          "output_type": "stream",
          "name": "stdout",
          "text": [
            "'letters[int(int('3'*2)//11)]' evaluates to: 'd'\n",
            "'letters[-1]' evaluates to: 'd'\n",
            "'letters[:2]' evaluates to: ['a', 'b']\n"
          ]
        }
      ]
    },
    {
      "cell_type": "markdown",
      "source": [
        "Q4"
      ],
      "metadata": {
        "id": "QLyb9u2uu_SL"
      }
    },
    {
      "cell_type": "code",
      "source": [
        "# list to tuple\n",
        "list_nba = ['Jocic', 'LeBron', 'Doncic', 'SGA']\n",
        "print(f\"list_version: {list_nba}\")\n",
        "\n",
        "tuple_nba = tuple(list_nba)\n",
        "print(f\"tuple_version: {tuple_nba}\")\n",
        "\n",
        "# tuple to list\n",
        "tuple_atp = ['Alcaraz', 'Sinner', 'Djokovic', 'Fritz']\n",
        "print(f\"tuple_version: {tuple_atp}\")\n",
        "\n",
        "list_atp = list(tuple_atp)\n",
        "print(f\"list_version: {list_atp}\")\n"
      ],
      "metadata": {
        "colab": {
          "base_uri": "https://localhost:8080/"
        },
        "id": "-v81RzZGwpoe",
        "outputId": "a4ec334f-f525-47a0-e2e7-c8bd2fb8400c"
      },
      "execution_count": 23,
      "outputs": [
        {
          "output_type": "stream",
          "name": "stdout",
          "text": [
            "list_version: ['Jocic', 'LeBron', 'Doncic', 'SGA']\n",
            "tuple_version: ('Jocic', 'LeBron', 'Doncic', 'SGA')\n",
            "tuple_version: ['Alcaraz', 'Sinner', 'Djokovic', 'Fritz']\n",
            "list_version: ['Alcaraz', 'Sinner', 'Djokovic', 'Fritz']\n"
          ]
        }
      ]
    },
    {
      "cell_type": "markdown",
      "source": [
        "Q5"
      ],
      "metadata": {
        "id": "HyNtNoSxPn_F"
      }
    },
    {
      "cell_type": "code",
      "source": [
        "# define the required function\n",
        "def comma_code_practice(items):\n",
        "\n",
        "    if not items:\n",
        "        return \"\"\n",
        "    elif len(items) == 1:\n",
        "        return str(items[0])\n",
        "    else:\n",
        "        formatted_string = \", \".join(str(item) for item in items[:-1])\n",
        "        formatted_string += f\", and {items[-1]}\"\n",
        "        return formatted_string\n",
        "\n",
        "# test\n",
        "spam = ['apples', 'bananas', 'tofu', 'cats']\n",
        "result = comma_code_practice(spam)\n",
        "print(f\"New string: {result}\")"
      ],
      "metadata": {
        "colab": {
          "base_uri": "https://localhost:8080/"
        },
        "id": "11IkJoQ-Pq61",
        "outputId": "b5d17eff-70da-43c8-d34f-5e75fb78d561"
      },
      "execution_count": 24,
      "outputs": [
        {
          "output_type": "stream",
          "name": "stdout",
          "text": [
            "New string: apples, bananas, tofu, and cats\n"
          ]
        }
      ]
    },
    {
      "cell_type": "markdown",
      "source": [],
      "metadata": {
        "id": "LADVBJKjTzfS"
      }
    }
  ]
}