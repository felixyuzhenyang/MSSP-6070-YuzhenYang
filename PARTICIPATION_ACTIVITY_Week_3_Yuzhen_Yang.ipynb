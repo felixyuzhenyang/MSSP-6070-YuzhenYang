{
  "nbformat": 4,
  "nbformat_minor": 0,
  "metadata": {
    "colab": {
      "provenance": [],
      "authorship_tag": "ABX9TyOzo4LqIWXm0sxYtHd6hiZm",
      "include_colab_link": true
    },
    "kernelspec": {
      "name": "python3",
      "display_name": "Python 3"
    },
    "language_info": {
      "name": "python"
    }
  },
  "cells": [
    {
      "cell_type": "markdown",
      "metadata": {
        "id": "view-in-github",
        "colab_type": "text"
      },
      "source": [
        "<a href=\"https://colab.research.google.com/github/felixyuzhenyang/MSSP-6070-YuzhenYang/blob/main/PARTICIPATION_ACTIVITY_Week_3_Yuzhen_Yang.ipynb\" target=\"_parent\"><img src=\"https://colab.research.google.com/assets/colab-badge.svg\" alt=\"Open In Colab\"/></a>"
      ]
    },
    {
      "cell_type": "markdown",
      "source": [
        "# PARTICIPATION ACTIVITY Week 3_Yuzhen Yang"
      ],
      "metadata": {
        "id": "OozqDZeJjhsn"
      }
    },
    {
      "cell_type": "markdown",
      "source": [
        "3. Answer the following questions:"
      ],
      "metadata": {
        "id": "Nd5XYwXtkmG2"
      }
    },
    {
      "cell_type": "markdown",
      "source": [
        "  3.a When does the code in a function execute: when the function is defined or called?\n",
        "\n",
        "The code in a function executes only when it's called. Defining a function only makes Python remember the content."
      ],
      "metadata": {
        "id": "zW6YZAtDkolO"
      }
    },
    {
      "cell_type": "markdown",
      "source": [
        "3.b. How many global scopes are there in a Python program? How many local scopes?\n",
        "\n",
        "There is only one global scope; it is created when the program starts.\n",
        "There can be various amounts of local scopes. A new local scope is created every time a function is called, so the number of local scopes depends on how many times we call a function."
      ],
      "metadata": {
        "id": "5a-IjxHY82Wj"
      }
    },
    {
      "cell_type": "markdown",
      "source": [
        "3.c. What happens to variables in a local scope when the function call returns?\n",
        "\n",
        "When a function call returns, its local scope is destroyed. All variables within that scope are cleared from memory and can not be accessed again."
      ],
      "metadata": {
        "id": "5Xa4kKM985EP"
      }
    },
    {
      "cell_type": "markdown",
      "source": [
        "3.d. How can you prevent a program from crashing when it gets an error?\n",
        "\n",
        "A method is to use the try-except statement. When an error occurs inside the ‘try’ statement, the error is captured, but it will not stop the program. Instead, the code inside the ‘except’ statement will run to proceed."
      ],
      "metadata": {
        "id": "f0SiC3NaqCMy"
      }
    },
    {
      "cell_type": "code",
      "source": [
        "# An example for question 3.d\n",
        "try:\n",
        "  my_favorite_player = int('Alcaraz')\n",
        "except ValueError:\n",
        "  print(\"You cannot convert a string to an integer!\")"
      ],
      "metadata": {
        "colab": {
          "base_uri": "https://localhost:8080/"
        },
        "id": "0OStRMn94aYX",
        "outputId": "fbcffe50-7800-4b6e-dbb2-4e9225d81ce4"
      },
      "execution_count": 1,
      "outputs": [
        {
          "output_type": "stream",
          "name": "stdout",
          "text": [
            "You cannot convert a string to an integer!\n"
          ]
        }
      ]
    },
    {
      "cell_type": "markdown",
      "source": [
        "The Collatz Sequence"
      ],
      "metadata": {
        "id": "7Tpx3__CvYqU"
      }
    },
    {
      "cell_type": "code",
      "source": [
        "def collatz(number):\n",
        "\n",
        "    if number % 2 == 0:\n",
        "        result = number // 2\n",
        "        print(result)\n",
        "        return result\n",
        "    else:\n",
        "        result = number * 3 + 1\n",
        "        print(result)\n",
        "        return result\n",
        "\n",
        "while True:\n",
        "    try:\n",
        "        user_input = input(\"Please Enter a integer:\")\n",
        "        current_number = int(user_input)\n",
        "        break\n",
        "    except ValueError:\n",
        "        print(\"You must enter an integer. Try again: \")\n",
        "\n",
        "while current_number != 1:\n",
        "    current_number = collatz(current_number)"
      ],
      "metadata": {
        "id": "-QcNxmuRuuaW",
        "colab": {
          "base_uri": "https://localhost:8080/"
        },
        "outputId": "77dd7116-67c6-4687-cd43-c04df7210f68"
      },
      "execution_count": 2,
      "outputs": [
        {
          "output_type": "stream",
          "name": "stdout",
          "text": [
            "Please Enter a integer:90\n",
            "45\n",
            "136\n",
            "68\n",
            "34\n",
            "17\n",
            "52\n",
            "26\n",
            "13\n",
            "40\n",
            "20\n",
            "10\n",
            "5\n",
            "16\n",
            "8\n",
            "4\n",
            "2\n",
            "1\n"
          ]
        }
      ]
    }
  ]
}